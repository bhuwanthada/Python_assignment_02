{
  "nbformat": 4,
  "nbformat_minor": 0,
  "metadata": {
    "colab": {
      "name": "Python_assignment_02",
      "provenance": [],
      "collapsed_sections": [],
      "authorship_tag": "ABX9TyOcFeSnhP0Zhv6heLpKdavC",
      "include_colab_link": true
    },
    "kernelspec": {
      "name": "python3",
      "display_name": "Python 3"
    }
  },
  "cells": [
    {
      "cell_type": "markdown",
      "metadata": {
        "id": "view-in-github",
        "colab_type": "text"
      },
      "source": [
        "<a href=\"https://colab.research.google.com/github/bhuwanthada/Python_assignment_02/blob/master/Python_assignment_02.ipynb\" target=\"_parent\"><img src=\"https://colab.research.google.com/assets/colab-badge.svg\" alt=\"Open In Colab\"/></a>"
      ]
    },
    {
      "cell_type": "markdown",
      "metadata": {
        "id": "krZP_X5iZJmm",
        "colab_type": "text"
      },
      "source": [
        "1. Create the below pattern using nested for loop in Python. "
      ]
    },
    {
      "cell_type": "code",
      "metadata": {
        "id": "lnSUB9TsWiXT",
        "colab_type": "code",
        "colab": {
          "base_uri": "https://localhost:8080/",
          "height": 357
        },
        "outputId": "1f3a8e58-5070-4062-d54e-10737ea6caa2"
      },
      "source": [
        "def main():\n",
        "    a = 10\n",
        "    j= a/2\n",
        "    for i in range(a):\n",
        "        if i > (a/2):\n",
        "            print(\"*\"*(a-i),\"\\n\")\n",
        "        else:\n",
        "            print(\"*\"*i,\"\\n\")   \n",
        "            \n",
        "main()"
      ],
      "execution_count": 4,
      "outputs": [
        {
          "output_type": "stream",
          "text": [
            " \n",
            "\n",
            "* \n",
            "\n",
            "** \n",
            "\n",
            "*** \n",
            "\n",
            "**** \n",
            "\n",
            "***** \n",
            "\n",
            "**** \n",
            "\n",
            "*** \n",
            "\n",
            "** \n",
            "\n",
            "* \n",
            "\n"
          ],
          "name": "stdout"
        }
      ]
    },
    {
      "cell_type": "markdown",
      "metadata": {
        "id": "rDIn3-Y_ZWdX",
        "colab_type": "text"
      },
      "source": [
        "2. Write a Python program to reverse a word after accepting the input from the user. \n",
        "Input word: ineuron \n",
        "Output word: norueni\n"
      ]
    },
    {
      "cell_type": "code",
      "metadata": {
        "id": "rtemCISZZb3c",
        "colab_type": "code",
        "colab": {
          "base_uri": "https://localhost:8080/",
          "height": 68
        },
        "outputId": "6dfa23c6-1ca6-4a80-fad8-77f9074a2fde"
      },
      "source": [
        "def main():\n",
        "  sample_name = input(\"Enter the sample string: \")\n",
        "  print(\"Sample Input: \",sample_name)\n",
        "  sample_name = list(sample_name)\n",
        "  rev_name = ''.join(sample_name[::-1])\n",
        "  print(\"sample Output:\",rev_name)\n",
        "main()"
      ],
      "execution_count": 3,
      "outputs": [
        {
          "output_type": "stream",
          "text": [
            "Enter the sample string: Bhuwan\n",
            "Sample Input:  Bhuwan\n",
            "sample Output: nawuhB\n"
          ],
          "name": "stdout"
        }
      ]
    }
  ]
}